{
 "cells": [
  {
   "cell_type": "code",
   "execution_count": 1,
   "metadata": {},
   "outputs": [],
   "source": [
    "import sys\n",
    "sys.path.append(\"../../\")"
   ]
  },
  {
   "cell_type": "code",
   "execution_count": 2,
   "metadata": {},
   "outputs": [],
   "source": [
    "import os\n",
    "import pandas as pd\n",
    "import seaborn as sns\n",
    "import numpy as np\n",
    "import matplotlib.pyplot as plt\n",
    "from utils.kmeans.kmeans import KMeans\n",
    "from utils.initial_data_handle import filter_genres, handle_non_numerical_data, standarize_dataframe, reverse_genre_mapping\n",
    "\n",
    "# sns.set_style(\"darkgrid\")"
   ]
  },
  {
   "cell_type": "code",
   "execution_count": 3,
   "metadata": {},
   "outputs": [],
   "source": [
    "df = pd.read_csv(\"../../data/movie_data.csv\", delimiter=';', encoding='utf-8')"
   ]
  },
  {
   "cell_type": "code",
   "execution_count": 4,
   "metadata": {},
   "outputs": [
    {
     "data": {
      "text/html": [
       "<div>\n",
       "<style scoped>\n",
       "    .dataframe tbody tr th:only-of-type {\n",
       "        vertical-align: middle;\n",
       "    }\n",
       "\n",
       "    .dataframe tbody tr th {\n",
       "        vertical-align: top;\n",
       "    }\n",
       "\n",
       "    .dataframe thead th {\n",
       "        text-align: right;\n",
       "    }\n",
       "</style>\n",
       "<table border=\"1\" class=\"dataframe\">\n",
       "  <thead>\n",
       "    <tr style=\"text-align: right;\">\n",
       "      <th></th>\n",
       "      <th>budget</th>\n",
       "      <th>popularity</th>\n",
       "      <th>production_companies</th>\n",
       "      <th>production_countries</th>\n",
       "      <th>revenue</th>\n",
       "      <th>runtime</th>\n",
       "      <th>spoken_languages</th>\n",
       "      <th>vote_average</th>\n",
       "      <th>vote_count</th>\n",
       "      <th>genres</th>\n",
       "    </tr>\n",
       "  </thead>\n",
       "  <tbody>\n",
       "    <tr>\n",
       "      <th>0</th>\n",
       "      <td>0.078947</td>\n",
       "      <td>0.402058</td>\n",
       "      <td>0.038462</td>\n",
       "      <td>0.083333</td>\n",
       "      <td>0.180612</td>\n",
       "      <td>0.176282</td>\n",
       "      <td>0.111111</td>\n",
       "      <td>0.846154</td>\n",
       "      <td>0.384725</td>\n",
       "      <td>1</td>\n",
       "    </tr>\n",
       "    <tr>\n",
       "      <th>1</th>\n",
       "      <td>0.171053</td>\n",
       "      <td>0.311705</td>\n",
       "      <td>0.115385</td>\n",
       "      <td>0.083333</td>\n",
       "      <td>0.127060</td>\n",
       "      <td>0.250000</td>\n",
       "      <td>0.222222</td>\n",
       "      <td>0.758242</td>\n",
       "      <td>0.171439</td>\n",
       "      <td>2</td>\n",
       "    </tr>\n",
       "    <tr>\n",
       "      <th>2</th>\n",
       "      <td>0.042105</td>\n",
       "      <td>0.070659</td>\n",
       "      <td>0.038462</td>\n",
       "      <td>0.083333</td>\n",
       "      <td>0.039378</td>\n",
       "      <td>0.323718</td>\n",
       "      <td>0.111111</td>\n",
       "      <td>0.670330</td>\n",
       "      <td>0.002416</td>\n",
       "      <td>3</td>\n",
       "    </tr>\n",
       "  </tbody>\n",
       "</table>\n",
       "</div>"
      ],
      "text/plain": [
       "     budget  popularity  production_companies  production_countries   revenue  \\\n",
       "0  0.078947    0.402058              0.038462              0.083333  0.180612   \n",
       "1  0.171053    0.311705              0.115385              0.083333  0.127060   \n",
       "2  0.042105    0.070659              0.038462              0.083333  0.039378   \n",
       "\n",
       "    runtime  spoken_languages  vote_average  vote_count  genres  \n",
       "0  0.176282          0.111111      0.846154    0.384725       1  \n",
       "1  0.250000          0.222222      0.758242    0.171439       2  \n",
       "2  0.323718          0.111111      0.670330    0.002416       3  "
      ]
     },
     "execution_count": 4,
     "metadata": {},
     "output_type": "execute_result"
    }
   ],
   "source": [
    "selected_df, genre_mapping = handle_non_numerical_data(df)\n",
    "standarized_df = standarize_dataframe(selected_df.dropna())\n",
    "standarized_df['genres'] = selected_df['genres']\n",
    "standarized_df.head(3)"
   ]
  },
  {
   "cell_type": "code",
   "execution_count": 5,
   "metadata": {},
   "outputs": [],
   "source": [
    "X = standarized_df.to_numpy()"
   ]
  },
  {
   "cell_type": "code",
   "execution_count": 6,
   "metadata": {},
   "outputs": [],
   "source": [
    "def calculate_sse(max_clusters):\n",
    "    wcss = []\n",
    "    for i in range(1, max_clusters+1):\n",
    "        kmeans = KMeans(i)\n",
    "        kmeans.fit(X)\n",
    "        wcss.append(kmeans.compute_sse())\n",
    "\n",
    "    plt.plot(range(1, max_clusters+1), wcss)\n",
    "    plt.title('SSE Elbow Method')\n",
    "    plt.xlabel('Number of Clusters')\n",
    "    plt.ylabel('SSE')\n",
    "    plt.show()\n"
   ]
  },
  {
   "cell_type": "code",
   "execution_count": 7,
   "metadata": {},
   "outputs": [],
   "source": [
    "# calculate_sse(10)"
   ]
  },
  {
   "cell_type": "code",
   "execution_count": 8,
   "metadata": {},
   "outputs": [],
   "source": [
    "def calculate_wcss(max_clusters):\n",
    "    wcss = []\n",
    "    for i in range(1, max_clusters+1):\n",
    "        kmeans = KMeans(k=i)\n",
    "        kmeans.fit(X)\n",
    "        wcss.append(kmeans.compute_wcss())\n",
    "\n",
    "    plt.plot(range(1, max_clusters+1), wcss)\n",
    "    plt.title('WCSS Elbow Method')\n",
    "    plt.xlabel('Number of Clusters')\n",
    "    plt.ylabel('WCSS')\n",
    "    plt.show()\n"
   ]
  },
  {
   "cell_type": "code",
   "execution_count": 9,
   "metadata": {},
   "outputs": [],
   "source": [
    "# calculate_wcss(10)"
   ]
  },
  {
   "cell_type": "code",
   "execution_count": 10,
   "metadata": {},
   "outputs": [],
   "source": [
    "genres_df = filter_genres(df.dropna())\n",
    "filtered_df, genre_mapping = handle_non_numerical_data(genres_df)\n",
    "filtered_standarized_df = standarize_dataframe(filtered_df)\n",
    "X_genre = filtered_standarized_df.to_numpy()"
   ]
  },
  {
   "cell_type": "code",
   "execution_count": 11,
   "metadata": {},
   "outputs": [
    {
     "data": {
      "text/html": [
       "<div>\n",
       "<style scoped>\n",
       "    .dataframe tbody tr th:only-of-type {\n",
       "        vertical-align: middle;\n",
       "    }\n",
       "\n",
       "    .dataframe tbody tr th {\n",
       "        vertical-align: top;\n",
       "    }\n",
       "\n",
       "    .dataframe thead th {\n",
       "        text-align: right;\n",
       "    }\n",
       "</style>\n",
       "<table border=\"1\" class=\"dataframe\">\n",
       "  <thead>\n",
       "    <tr style=\"text-align: right;\">\n",
       "      <th></th>\n",
       "      <th>budget</th>\n",
       "      <th>genres</th>\n",
       "      <th>popularity</th>\n",
       "      <th>production_companies</th>\n",
       "      <th>production_countries</th>\n",
       "      <th>revenue</th>\n",
       "      <th>runtime</th>\n",
       "      <th>spoken_languages</th>\n",
       "      <th>vote_average</th>\n",
       "      <th>vote_count</th>\n",
       "    </tr>\n",
       "  </thead>\n",
       "  <tbody>\n",
       "    <tr>\n",
       "      <th>2</th>\n",
       "      <td>16000000.0</td>\n",
       "      <td>1</td>\n",
       "      <td>3.859495</td>\n",
       "      <td>1.0</td>\n",
       "      <td>1.0</td>\n",
       "      <td>81452156.0</td>\n",
       "      <td>127.0</td>\n",
       "      <td>1.0</td>\n",
       "      <td>6.1</td>\n",
       "      <td>34.0</td>\n",
       "    </tr>\n",
       "    <tr>\n",
       "      <th>3</th>\n",
       "      <td>60000000.0</td>\n",
       "      <td>2</td>\n",
       "      <td>17.924927</td>\n",
       "      <td>3.0</td>\n",
       "      <td>1.0</td>\n",
       "      <td>187436818.0</td>\n",
       "      <td>170.0</td>\n",
       "      <td>2.0</td>\n",
       "      <td>7.7</td>\n",
       "      <td>1886.0</td>\n",
       "    </tr>\n",
       "    <tr>\n",
       "      <th>4</th>\n",
       "      <td>35000000.0</td>\n",
       "      <td>2</td>\n",
       "      <td>5.231580</td>\n",
       "      <td>3.0</td>\n",
       "      <td>1.0</td>\n",
       "      <td>64350171.0</td>\n",
       "      <td>106.0</td>\n",
       "      <td>1.0</td>\n",
       "      <td>5.5</td>\n",
       "      <td>174.0</td>\n",
       "    </tr>\n",
       "  </tbody>\n",
       "</table>\n",
       "</div>"
      ],
      "text/plain": [
       "       budget  genres  popularity  production_companies  production_countries  \\\n",
       "2  16000000.0       1    3.859495                   1.0                   1.0   \n",
       "3  60000000.0       2   17.924927                   3.0                   1.0   \n",
       "4  35000000.0       2    5.231580                   3.0                   1.0   \n",
       "\n",
       "       revenue  runtime  spoken_languages  vote_average  vote_count  \n",
       "2   81452156.0    127.0               1.0           6.1        34.0  \n",
       "3  187436818.0    170.0               2.0           7.7      1886.0  \n",
       "4   64350171.0    106.0               1.0           5.5       174.0  "
      ]
     },
     "execution_count": 11,
     "metadata": {},
     "output_type": "execute_result"
    }
   ],
   "source": [
    "filtered_df.head(3)"
   ]
  },
  {
   "cell_type": "code",
   "execution_count": 12,
   "metadata": {},
   "outputs": [],
   "source": [
    "def predict_for_k(k : int):\n",
    "    kmeans = KMeans(k)\n",
    "    kmeans.fit(X_genre)\n",
    "    predict_genres_df = filtered_standarized_df.drop(columns='genres', errors='ignore')\n",
    "    X_predict = predict_genres_df.to_numpy()\n",
    "    raw_predictions = kmeans.predict(X_predict)\n",
    "    filtered_standarized_df['genres'] = filtered_df['genres'].to_numpy()\n",
    "    filtered_standarized_df['predicted_genres'] = raw_predictions\n",
    "    # filtered_standarized_df.head(3)\n",
    "    filtered_standarized_df['predicted_genres'] += 1\n",
    "    reverse_genre_mapping(filtered_standarized_df, genre_mapping)\n",
    "    reverse_genre_mapping(filtered_standarized_df, genre_mapping, 'predicted_genres')\n",
    "    return filtered_standarized_df"
   ]
  },
  {
   "cell_type": "code",
   "execution_count": 13,
   "metadata": {},
   "outputs": [],
   "source": [
    "from sklearn.metrics import accuracy_score, precision_score\n",
    "from sklearn.metrics import confusion_matrix\n",
    "\n",
    "def plot_conf_matrix(text_df: pd.DataFrame, k : str):\n",
    "    to_predict = text_df['genres']\n",
    "    predictions = text_df['predicted_genres']\n",
    "    class_labels = text_df['genres'].unique()\n",
    "\n",
    "    cm = confusion_matrix(to_predict, predictions, labels=class_labels, normalize='true')\n",
    "\n",
    "    plt.figure(figsize=(8, 6))\n",
    "    plt.imshow(cm, interpolation='nearest', cmap=sns.cubehelix_palette(as_cmap=True, rot=.2, gamma=.5))\n",
    "    plt.title(f\"Confusion Matrix for k = {k}\")\n",
    "    plt.colorbar()\n",
    "\n",
    "    tick_marks = np.arange(len(class_labels))\n",
    "    plt.xticks(tick_marks, class_labels, rotation=45)\n",
    "    plt.yticks(tick_marks, class_labels)\n",
    "\n",
    "    thresh = cm.max() / 2.\n",
    "    for i in range(len(class_labels)):\n",
    "        for j in range(len(class_labels)):\n",
    "            plt.text(j, i, \"{:.2f}%\".format(cm[i, j] * 100),\n",
    "                     horizontalalignment=\"center\",\n",
    "                     color=\"white\" if cm[i, j] > thresh else \"black\")\n",
    "\n",
    "    plt.tight_layout()\n",
    "    os.makedirs(\"output\", exist_ok=True)\n",
    "    plt.savefig(f\"output/confusion_matrix_k{k}.png\", bbox_inches='tight', dpi=1200)\n",
    "    plt.close()\n",
    "\n",
    "    precision = precision_score(to_predict, predictions, average='weighted')\n",
    "    accuracy = accuracy_score(to_predict, predictions)\n",
    "    error_precision = 1 - precision\n",
    "    error_accuracy = 1 - accuracy\n",
    "\n",
    "    print(f\"Precision: {precision:.5f}, Error (Precision): {error_precision:.5f}\")\n",
    "    print(f\"Accuracy: {accuracy:.5f}, Error (Accuracy): {error_accuracy:.5f}\")"
   ]
  },
  {
   "cell_type": "code",
   "execution_count": 14,
   "metadata": {},
   "outputs": [
    {
     "data": {
      "text/html": [
       "<div>\n",
       "<style scoped>\n",
       "    .dataframe tbody tr th:only-of-type {\n",
       "        vertical-align: middle;\n",
       "    }\n",
       "\n",
       "    .dataframe tbody tr th {\n",
       "        vertical-align: top;\n",
       "    }\n",
       "\n",
       "    .dataframe thead th {\n",
       "        text-align: right;\n",
       "    }\n",
       "</style>\n",
       "<table border=\"1\" class=\"dataframe\">\n",
       "  <thead>\n",
       "    <tr style=\"text-align: right;\">\n",
       "      <th></th>\n",
       "      <th>budget</th>\n",
       "      <th>popularity</th>\n",
       "      <th>production_companies</th>\n",
       "      <th>production_countries</th>\n",
       "      <th>revenue</th>\n",
       "      <th>runtime</th>\n",
       "      <th>spoken_languages</th>\n",
       "      <th>vote_average</th>\n",
       "      <th>vote_count</th>\n",
       "      <th>genres</th>\n",
       "      <th>predicted_genres</th>\n",
       "    </tr>\n",
       "  </thead>\n",
       "  <tbody>\n",
       "    <tr>\n",
       "      <th>0</th>\n",
       "      <td>0.057143</td>\n",
       "      <td>0.070659</td>\n",
       "      <td>0.038462</td>\n",
       "      <td>0.083333</td>\n",
       "      <td>0.039378</td>\n",
       "      <td>0.260536</td>\n",
       "      <td>0.111111</td>\n",
       "      <td>0.670330</td>\n",
       "      <td>0.002416</td>\n",
       "      <td>Comedy</td>\n",
       "      <td>Drama</td>\n",
       "    </tr>\n",
       "    <tr>\n",
       "      <th>1</th>\n",
       "      <td>0.214286</td>\n",
       "      <td>0.328367</td>\n",
       "      <td>0.115385</td>\n",
       "      <td>0.083333</td>\n",
       "      <td>0.090622</td>\n",
       "      <td>0.425287</td>\n",
       "      <td>0.222222</td>\n",
       "      <td>0.846154</td>\n",
       "      <td>0.133996</td>\n",
       "      <td>Action</td>\n",
       "      <td>Action</td>\n",
       "    </tr>\n",
       "    <tr>\n",
       "      <th>2</th>\n",
       "      <td>0.125000</td>\n",
       "      <td>0.095798</td>\n",
       "      <td>0.115385</td>\n",
       "      <td>0.083333</td>\n",
       "      <td>0.031109</td>\n",
       "      <td>0.180077</td>\n",
       "      <td>0.111111</td>\n",
       "      <td>0.604396</td>\n",
       "      <td>0.012362</td>\n",
       "      <td>Action</td>\n",
       "      <td>Drama</td>\n",
       "    </tr>\n",
       "  </tbody>\n",
       "</table>\n",
       "</div>"
      ],
      "text/plain": [
       "     budget  popularity  production_companies  production_countries   revenue  \\\n",
       "0  0.057143    0.070659              0.038462              0.083333  0.039378   \n",
       "1  0.214286    0.328367              0.115385              0.083333  0.090622   \n",
       "2  0.125000    0.095798              0.115385              0.083333  0.031109   \n",
       "\n",
       "    runtime  spoken_languages  vote_average  vote_count  genres  \\\n",
       "0  0.260536          0.111111      0.670330    0.002416  Comedy   \n",
       "1  0.425287          0.222222      0.846154    0.133996  Action   \n",
       "2  0.180077          0.111111      0.604396    0.012362  Action   \n",
       "\n",
       "  predicted_genres  \n",
       "0            Drama  \n",
       "1           Action  \n",
       "2            Drama  "
      ]
     },
     "execution_count": 14,
     "metadata": {},
     "output_type": "execute_result"
    }
   ],
   "source": [
    "df_k3 = predict_for_k(k=3)\n",
    "df_k3.head(3)"
   ]
  },
  {
   "cell_type": "code",
   "execution_count": 15,
   "metadata": {},
   "outputs": [
    {
     "name": "stdout",
     "output_type": "stream",
     "text": [
      "Precision: 0.26668, Error (Precision): 0.73332\n",
      "Accuracy: 0.34894, Error (Accuracy): 0.65106\n"
     ]
    }
   ],
   "source": [
    "plot_conf_matrix(df_k3, k='3')"
   ]
  }
 ],
 "metadata": {
  "kernelspec": {
   "display_name": "Python 3",
   "language": "python",
   "name": "python3"
  },
  "language_info": {
   "codemirror_mode": {
    "name": "ipython",
    "version": 3
   },
   "file_extension": ".py",
   "mimetype": "text/x-python",
   "name": "python",
   "nbconvert_exporter": "python",
   "pygments_lexer": "ipython3",
   "version": "3.11.4"
  }
 },
 "nbformat": 4,
 "nbformat_minor": 2
}
